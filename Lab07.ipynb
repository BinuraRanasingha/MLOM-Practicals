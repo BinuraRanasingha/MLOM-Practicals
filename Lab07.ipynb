{
 "cells": [
  {
   "cell_type": "code",
   "execution_count": 1,
   "id": "cd71d4b6",
   "metadata": {},
   "outputs": [
    {
     "name": "stdout",
     "output_type": "stream",
     "text": [
      "pygame 2.1.0 (SDL 2.0.16, Python 3.9.12)\n",
      "Hello from the pygame community. https://www.pygame.org/contribute.html\n"
     ]
    }
   ],
   "source": [
    "#Q1\n",
    "import numpy as np\n",
    "import random\n",
    "import gym\n",
    "import pygame"
   ]
  },
  {
   "cell_type": "code",
   "execution_count": 4,
   "id": "a84cb57f",
   "metadata": {},
   "outputs": [
    {
     "name": "stdout",
     "output_type": "stream",
     "text": [
      "+---------+\n",
      "|R: | : :\u001b[35mG\u001b[0m|\n",
      "| : | : : |\n",
      "| : : : : |\n",
      "| |\u001b[43m \u001b[0m: | : |\n",
      "|\u001b[34;1mY\u001b[0m| : |B: |\n",
      "+---------+\n",
      "\n"
     ]
    }
   ],
   "source": [
    "#Q2\n",
    "#Creating the environment\n",
    "environment = gym.make(\"Taxi-v3\").env\n",
    "#self._disable_render_order_enforcing : bool = True\n",
    "#environment.reset()\n",
    "environment.render()"
   ]
  },
  {
   "cell_type": "code",
   "execution_count": 3,
   "id": "acafaa8d",
   "metadata": {},
   "outputs": [
    {
     "name": "stdout",
     "output_type": "stream",
     "text": [
      "500\n",
      "6\n"
     ]
    }
   ],
   "source": [
    "#Q3\n",
    "#finding the number of states and actions\n",
    "print(environment.observation_space.n)\n",
    "print(environment.action_space.n)"
   ]
  },
  {
   "cell_type": "code",
   "execution_count": 4,
   "id": "7a8c11c5",
   "metadata": {},
   "outputs": [],
   "source": [
    "#Q4\n",
    "#Setting values for the learning rate, discount factor and epsilon(a fix value to overcoming the expiration and exploration\n",
    "#fixing the q values after some duration.)\n",
    "alpha = 0.1 #learning rate\n",
    "gamma = 0.6 #discount factor\n",
    "epsilon = 0.1"
   ]
  },
  {
   "cell_type": "code",
   "execution_count": 5,
   "id": "8c66e849",
   "metadata": {},
   "outputs": [
    {
     "data": {
      "text/plain": [
       "array([[0., 0., 0., 0., 0., 0.],\n",
       "       [0., 0., 0., 0., 0., 0.],\n",
       "       [0., 0., 0., 0., 0., 0.],\n",
       "       ...,\n",
       "       [0., 0., 0., 0., 0., 0.],\n",
       "       [0., 0., 0., 0., 0., 0.],\n",
       "       [0., 0., 0., 0., 0., 0.]])"
      ]
     },
     "execution_count": 5,
     "metadata": {},
     "output_type": "execute_result"
    }
   ],
   "source": [
    "#Q5\n",
    "#Creating the initial Q-table\n",
    "q_table = np.zeros((500,6))\n",
    "q_table"
   ]
  },
  {
   "cell_type": "code",
   "execution_count": 7,
   "id": "02cb6bb4",
   "metadata": {},
   "outputs": [],
   "source": [
    "#Q6\n",
    "#Training the Q Table\n",
    "num_of_eposides = 100000\n",
    "\n",
    "for episode in range (0,num_of_eposides):\n",
    "    #Reset the environement\n",
    "    state = environment.reset()\n",
    "    \n",
    "    #Initialize the variables\n",
    "    reward = 0\n",
    "    terminated = False\n",
    "    \n",
    "    while not terminated:\n",
    "        #Take learned path or explore new actions based on the epsilon\n",
    "        if random.uniform(0,1) < epsilon:\n",
    "            action = environment.action_space.sample()\n",
    "        else:\n",
    "            action = np.argmax(q_table[state])\n",
    "            \n",
    "        #Take action\n",
    "        next_state, reward, terminated, info = environment.step(action)\n",
    "        \n",
    "        #Real accurate\n",
    "        q_value = q_table[state,action]\n",
    "        max_value = np.max(q_table[next_state])\n",
    "        new_q_value = (1 - alpha) * q_value + alpha * (reward + gamma * max_value)\n",
    "        \n",
    "        #Update Q-table\n",
    "        q_table[state,action] = new_q_value\n",
    "        state = next_state"
   ]
  },
  {
   "cell_type": "code",
   "execution_count": 8,
   "id": "8fb0b12a",
   "metadata": {},
   "outputs": [
    {
     "name": "stdout",
     "output_type": "stream",
     "text": [
      "[[  0.           0.           0.           0.           0.\n",
      "    0.        ]\n",
      " [ -2.41837064  -2.36395109  -2.41837066  -2.36395108  -2.27325184\n",
      "  -11.36394863]\n",
      " [ -1.870144    -1.45024     -1.87014398  -1.45024002  -0.7504\n",
      "  -10.45023991]\n",
      " ...\n",
      " [ -0.99753506   0.41599997  -1.10422129  -1.20747762  -4.63931618\n",
      "   -4.07713032]\n",
      " [ -2.18104337  -2.1220806   -2.14671541  -2.12208073  -5.10838912\n",
      "   -5.75680565]\n",
      " [  4.52526308   0.68146571   3.92552398  11.          -2.72247665\n",
      "   -2.5392508 ]]\n"
     ]
    }
   ],
   "source": [
    "print(q_table)"
   ]
  },
  {
   "cell_type": "code",
   "execution_count": 10,
   "id": "10761b75",
   "metadata": {},
   "outputs": [],
   "source": [
    "#Q8\n",
    "#Testing the goodness of the trained table\n",
    "total_penalties = 0\n",
    "num_of_episodes = 100\n",
    "\n",
    "for _ in range(num_of_episodes):\n",
    "    state = environment.reset()\n",
    "    penalties = 0\n",
    "    reward = 0\n",
    "    terminated = False\n",
    "    \n",
    "    while not terminated:\n",
    "        action = np.argmax(q_table[state])\n",
    "        state,reward,terminated,info = environment.step(action)\n",
    "        \n",
    "    if reward <= 10:\n",
    "        penalties += 1\n",
    "total_penalties += penalties "
   ]
  },
  {
   "cell_type": "code",
   "execution_count": 11,
   "id": "d7c60778",
   "metadata": {},
   "outputs": [
    {
     "name": "stdout",
     "output_type": "stream",
     "text": [
      "0.0\n"
     ]
    }
   ],
   "source": [
    "print(total_penalties / num_of_episodes)"
   ]
  },
  {
   "cell_type": "code",
   "execution_count": null,
   "id": "dcd3cf57",
   "metadata": {},
   "outputs": [],
   "source": []
  }
 ],
 "metadata": {
  "kernelspec": {
   "display_name": "Python 3 (ipykernel)",
   "language": "python",
   "name": "python3"
  },
  "language_info": {
   "codemirror_mode": {
    "name": "ipython",
    "version": 3
   },
   "file_extension": ".py",
   "mimetype": "text/x-python",
   "name": "python",
   "nbconvert_exporter": "python",
   "pygments_lexer": "ipython3",
   "version": "3.9.12"
  }
 },
 "nbformat": 4,
 "nbformat_minor": 5
}
