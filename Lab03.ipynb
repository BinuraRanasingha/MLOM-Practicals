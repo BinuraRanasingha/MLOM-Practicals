{
 "cells": [
  {
   "cell_type": "code",
   "execution_count": 6,
   "id": "9acf681b",
   "metadata": {},
   "outputs": [
    {
     "name": "stdout",
     "output_type": "stream",
     "text": [
      "<module 'tensorflow._api.v2.version' from 'C:\\\\Users\\\\Binura\\\\anaconda3\\\\envs\\\\tfradeon\\\\lib\\\\site-packages\\\\tensorflow\\\\_api\\\\v2\\\\version\\\\__init__.py'>\n"
     ]
    }
   ],
   "source": [
    "import tensorflow as tf #importing tensorflow\n",
    "print(tensorflow.version) #prints the tensorflow version"
   ]
  },
  {
   "cell_type": "code",
   "execution_count": null,
   "id": "036d05c3",
   "metadata": {},
   "outputs": [],
   "source": [
    "#creating tensors\n",
    "string = tf.Variable(\"this is a string\",tf.string)\n",
    "number = tf.Variable(324,tf.int16)\n",
    "floating = tf.Variable(3.567,tf.float64)"
   ]
  },
  {
   "cell_type": "code",
   "execution_count": 28,
   "id": "a6e336c8",
   "metadata": {},
   "outputs": [],
   "source": [
    "#creating tensors of higher degrees/ranks\n",
    "rank1_tensor = tf.Variable([\"Test\"],tf.string)\n",
    "rank2_tensor = tf.Variable([[\"1,2],[3,4],[5,6\"]],tf.int16)"
   ]
  },
  {
   "cell_type": "code",
   "execution_count": 27,
   "id": "2a4813a8",
   "metadata": {},
   "outputs": [
    {
     "data": {
      "text/plain": [
       "<tf.Tensor: shape=(), dtype=int32, numpy=2>"
      ]
     },
     "execution_count": 27,
     "metadata": {},
     "output_type": "execute_result"
    }
   ],
   "source": [
    "#determining the rank of a tensor\n",
    "tf.rank(rank1_tensor)\n",
    "tf.rank(rank2_tensor)"
   ]
  },
  {
   "cell_type": "code",
   "execution_count": null,
   "id": "d8c0bdc2",
   "metadata": {},
   "outputs": [],
   "source": []
  },
  {
   "cell_type": "code",
   "execution_count": null,
   "id": "b2b3fd63",
   "metadata": {},
   "outputs": [],
   "source": []
  }
 ],
 "metadata": {
  "kernelspec": {
   "display_name": "Python 3 (ipykernel)",
   "language": "python",
   "name": "python3"
  },
  "language_info": {
   "codemirror_mode": {
    "name": "ipython",
    "version": 3
   },
   "file_extension": ".py",
   "mimetype": "text/x-python",
   "name": "python",
   "nbconvert_exporter": "python",
   "pygments_lexer": "ipython3",
   "version": "3.9.12"
  }
 },
 "nbformat": 4,
 "nbformat_minor": 5
}
