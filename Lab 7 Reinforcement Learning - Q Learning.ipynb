{
 "cells": [
  {
   "cell_type": "code",
   "execution_count": 1,
   "id": "cd71d4b6",
   "metadata": {},
   "outputs": [],
   "source": [
    "#Q1\n",
    "import numpy as np\n",
    "import random\n",
    "import gym"
   ]
  },
  {
   "cell_type": "code",
   "execution_count": 6,
   "id": "a84cb57f",
   "metadata": {},
   "outputs": [],
   "source": [
    "#Q2\n",
    "#Creating the environment\n",
    "env = gym.make(\"Taxi-v3\",render_mode=\"human\")\n",
    "#self._disable_render_order_enforcing : bool = True\n",
    "env.reset()\n",
    "env.render()"
   ]
  },
  {
   "cell_type": "code",
   "execution_count": 4,
   "id": "acafaa8d",
   "metadata": {},
   "outputs": [
    {
     "name": "stdout",
     "output_type": "stream",
     "text": [
      "500\n",
      "6\n"
     ]
    }
   ],
   "source": [
    "#Q3\n",
    "#finding the number of states and actions\n",
    "print(env.observation_space.n)\n",
    "print(env.action_space.n)"
   ]
  },
  {
   "cell_type": "code",
   "execution_count": 5,
   "id": "7a8c11c5",
   "metadata": {},
   "outputs": [],
   "source": [
    "#Q4\n",
    "#Setting values for the learning rate, discount factor and epsilon(a fix value to overcoming the expiration and exploration\n",
    "#fixing the q values after some duration.)\n",
    "alpha = 0.1 #learning rate\n",
    "gamma = 0.6 #discount factor\n",
    "epsilon = 0.1"
   ]
  },
  {
   "cell_type": "code",
   "execution_count": 6,
   "id": "8c66e849",
   "metadata": {},
   "outputs": [
    {
     "data": {
      "text/plain": [
       "array([[0., 0., 0., 0., 0., 0.],\n",
       "       [0., 0., 0., 0., 0., 0.],\n",
       "       [0., 0., 0., 0., 0., 0.],\n",
       "       ...,\n",
       "       [0., 0., 0., 0., 0., 0.],\n",
       "       [0., 0., 0., 0., 0., 0.],\n",
       "       [0., 0., 0., 0., 0., 0.]])"
      ]
     },
     "execution_count": 6,
     "metadata": {},
     "output_type": "execute_result"
    }
   ],
   "source": [
    "#Q5\n",
    "#Creating the initial Q-table\n",
    "q_table = np.zeros((500,6))\n",
    "q_table"
   ]
  },
  {
   "cell_type": "code",
   "execution_count": 7,
   "id": "02cb6bb4",
   "metadata": {},
   "outputs": [
    {
     "ename": "IndexError",
     "evalue": "only integers, slices (`:`), ellipsis (`...`), numpy.newaxis (`None`) and integer or boolean arrays are valid indices",
     "output_type": "error",
     "traceback": [
      "\u001b[1;31m---------------------------------------------------------------------------\u001b[0m",
      "\u001b[1;31mIndexError\u001b[0m                                Traceback (most recent call last)",
      "Input \u001b[1;32mIn [7]\u001b[0m, in \u001b[0;36m<cell line: 5>\u001b[1;34m()\u001b[0m\n\u001b[0;32m     16\u001b[0m     action \u001b[38;5;241m=\u001b[39m env\u001b[38;5;241m.\u001b[39maction_space\u001b[38;5;241m.\u001b[39msample()\n\u001b[0;32m     17\u001b[0m \u001b[38;5;28;01melse\u001b[39;00m:\n\u001b[1;32m---> 18\u001b[0m     action \u001b[38;5;241m=\u001b[39m np\u001b[38;5;241m.\u001b[39margmax(\u001b[43mq_table\u001b[49m\u001b[43m[\u001b[49m\u001b[43mstate\u001b[49m\u001b[43m]\u001b[49m)\n\u001b[0;32m     20\u001b[0m \u001b[38;5;66;03m#Take action\u001b[39;00m\n\u001b[0;32m     21\u001b[0m next_state, reward, terminated, info \u001b[38;5;241m=\u001b[39m env\u001b[38;5;241m.\u001b[39mstep(action)\n",
      "\u001b[1;31mIndexError\u001b[0m: only integers, slices (`:`), ellipsis (`...`), numpy.newaxis (`None`) and integer or boolean arrays are valid indices"
     ]
    }
   ],
   "source": [
    "#Q6\n",
    "#Training the Q Table\n",
    "num_of_eposides = 100000\n",
    "\n",
    "for episode in range (0,num_of_eposides):\n",
    "    #Reset the environement\n",
    "    state = env.reset()\n",
    "    \n",
    "    #Initialize the variables\n",
    "    reward = 0\n",
    "    terminated = False\n",
    "    \n",
    "    while not terminated:\n",
    "        #Take learned path or explore new actions based on the epsilon\n",
    "        if random.uniform(0,1) < epsilon:\n",
    "            action = env.action_space.sample()\n",
    "        else:\n",
    "            action = np.argmax(q_table[state])\n",
    "            \n",
    "        #Take action\n",
    "        next_state, reward, terminated, info = env.step(action)\n",
    "        \n",
    "        #Real accurate\n",
    "        q_value = q_table[state,action]\n",
    "        max_value = np.max(q_table[next_state])\n",
    "        new_q_value = (1 - alpha) * q_value + alpha * (reward + gamma * max_value)\n",
    "        \n",
    "        #Update Q-table\n",
    "        q_tables[state,action] = new_q_value\n",
    "        state = next_state"
   ]
  },
  {
   "cell_type": "code",
   "execution_count": 7,
   "id": "8fb0b12a",
   "metadata": {},
   "outputs": [
    {
     "name": "stdout",
     "output_type": "stream",
     "text": [
      "[[0. 0. 0. 0. 0. 0.]\n",
      " [0. 0. 0. 0. 0. 0.]\n",
      " [0. 0. 0. 0. 0. 0.]\n",
      " ...\n",
      " [0. 0. 0. 0. 0. 0.]\n",
      " [0. 0. 0. 0. 0. 0.]\n",
      " [0. 0. 0. 0. 0. 0.]]\n"
     ]
    }
   ],
   "source": [
    "print(q_table)"
   ]
  },
  {
   "cell_type": "code",
   "execution_count": null,
   "id": "10761b75",
   "metadata": {},
   "outputs": [],
   "source": [
    "#Q8\n",
    "#Testing the goodness of the trained table\n",
    "total_penalties = 0\n",
    "num_of_episodes = 100\n",
    "\n",
    "for _ in range(num_of_episodes):\n",
    "    state = env.reset()\n",
    "    penalties = 0\n",
    "    reward = 0\n",
    "    terminated = False\n",
    "    \n",
    "    while not terminated:\n",
    "        action = np.argmax(q_table[state])\n",
    "        state,reward,terminated,info = env.step(action)\n",
    "        \n",
    "    if reward <= 10:\n",
    "        penalties += 1\n",
    "total_penalties += penalties "
   ]
  },
  {
   "cell_type": "code",
   "execution_count": null,
   "id": "d7c60778",
   "metadata": {},
   "outputs": [],
   "source": [
    "print(total_penalties / num_of_episodes)"
   ]
  }
 ],
 "metadata": {
  "kernelspec": {
   "display_name": "Python 3 (ipykernel)",
   "language": "python",
   "name": "python3"
  },
  "language_info": {
   "codemirror_mode": {
    "name": "ipython",
    "version": 3
   },
   "file_extension": ".py",
   "mimetype": "text/x-python",
   "name": "python",
   "nbconvert_exporter": "python",
   "pygments_lexer": "ipython3",
   "version": "3.9.12"
  }
 },
 "nbformat": 4,
 "nbformat_minor": 5
}
