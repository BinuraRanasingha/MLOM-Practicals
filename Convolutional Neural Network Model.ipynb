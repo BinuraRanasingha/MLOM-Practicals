{
 "cells": [
  {
   "cell_type": "code",
   "execution_count": 5,
   "id": "2ca30013",
   "metadata": {},
   "outputs": [],
   "source": [
    "import tensorflow as tf\n",
    "\n",
    "def generate_model():\n",
    "    model = tf.keras.Sequential([\n",
    "        #first convolutional layer\n",
    "        tf.keras.layers.Conv2D(32,filter_size=3,activation='relu'),\n",
    "        tf.keras.layers.MaxPool2D(pool_size=2,strides=2),\n",
    "        \n",
    "        #second convolutional layer\n",
    "        tf.keras.layers.Conv2D(64,filter_size=3,activation='relu'),\n",
    "        tf.keras.layers.MaxPool2D(pool_size=2,strides=2),\n",
    "        \n",
    "        #fully connected classifier\n",
    "        tf.keras.layers.Flatten(),\n",
    "        tf.keras.layers.Dense(1024,activation='relu'),\n",
    "        tf.keras.layers.Dense(10,activation='softmax') #10 outputs\n",
    "    ])\n",
    "    return model"
   ]
  },
  {
   "cell_type": "code",
   "execution_count": null,
   "id": "a38a95a6",
   "metadata": {},
   "outputs": [],
   "source": []
  }
 ],
 "metadata": {
  "kernelspec": {
   "display_name": "Python 3 (ipykernel)",
   "language": "python",
   "name": "python3"
  },
  "language_info": {
   "codemirror_mode": {
    "name": "ipython",
    "version": 3
   },
   "file_extension": ".py",
   "mimetype": "text/x-python",
   "name": "python",
   "nbconvert_exporter": "python",
   "pygments_lexer": "ipython3",
   "version": "3.9.12"
  }
 },
 "nbformat": 4,
 "nbformat_minor": 5
}
