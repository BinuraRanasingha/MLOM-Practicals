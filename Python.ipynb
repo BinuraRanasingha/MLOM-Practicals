{
 "cells": [
  {
   "cell_type": "code",
   "execution_count": null,
   "id": "aebd7613",
   "metadata": {},
   "outputs": [],
   "source": [
    "#Creating variables and assigning numbers, strings, floating values to them\n",
    "name = \"Oshada\"\n",
    "no_studs = 150\n",
    "temp = 13.0\n",
    "print(name)\n",
    "print(no_studs)\n",
    "print(temp)"
   ]
  },
  {
   "cell_type": "code",
   "execution_count": 17,
   "id": "ba6a5a66",
   "metadata": {},
   "outputs": [
    {
     "name": "stdout",
     "output_type": "stream",
     "text": [
      "[1, 2, 3, 4, 5, 6, 7, 8, 9, 10]\n",
      "[0, 1, 2, 3, 4, 5, 6, 7, 8, 9, 10, 11, 12, 13, 14, 15, 16, 17, 18, 19]\n",
      "[0, 1, 2, 3, 4, 5, 6, 7, 8, 9]\n"
     ]
    }
   ],
   "source": [
    "#Creating a list\n",
    "List_1 = [1,2,3,4,5,6,7,8,9,10]\n",
    "List_2 = list(range(0,20))\n",
    "List_3 = [x for x in range(10)]\n",
    "\n",
    "print(List_1)\n",
    "print(List_2)\n",
    "print(List_3)"
   ]
  },
  {
   "cell_type": "code",
   "execution_count": 24,
   "id": "43ca430a",
   "metadata": {},
   "outputs": [
    {
     "name": "stdout",
     "output_type": "stream",
     "text": [
      "Odd numbers of list1\n",
      "1 3 5 7 9 \n",
      "Odd numbers of list2\n",
      "1 3 5 7 9 11 13 15 17 19 \n",
      "Odd numbers of list3\n",
      "1 3 5 7 9 "
     ]
    }
   ],
   "source": [
    "#printing odd numbers using a for loop\n",
    "print(\"Odd numbers of list1\")\n",
    "for e in List_1:\n",
    "    if e%2 != 0:\n",
    "        print(e,end=' ')\n",
    "print()\n",
    "\n",
    "print(\"Odd numbers of list2\")        \n",
    "for e in List_2:\n",
    "    if e%2 != 0:\n",
    "        print(e,end=' ')\n",
    "print()\n",
    "\n",
    "print(\"Odd numbers of list3\")\n",
    "for e in List_3:\n",
    "    if e%2 != 0:\n",
    "        print(e,end=' ')"
   ]
  },
  {
   "cell_type": "code",
   "execution_count": 23,
   "id": "6195785b",
   "metadata": {},
   "outputs": [
    {
     "name": "stdout",
     "output_type": "stream",
     "text": [
      "Odd numbers of list1\n",
      "1 3 5 7 9 \n",
      "Odd numbers of list2\n",
      "1 3 5 7 9 11 13 15 17 19 \n",
      "Odd numbers of list3\n",
      "1 3 5 7 9 "
     ]
    }
   ],
   "source": [
    "#printing odd numbers using a while loop\n",
    "i = 0\n",
    "print(\"Odd numbers of list1\")\n",
    "while i < len(List_1):\n",
    "    if List_1[i] %2 != 0:\n",
    "        print(List_1[i],end=' ')\n",
    "    i+=1\n",
    "print()\n",
    "\n",
    "j=0\n",
    "print(\"Odd numbers of list2\")\n",
    "while j < len(List_2):\n",
    "    if List_2[j] %2 != 0:\n",
    "        print(List_2[j],end=' ')\n",
    "    j+=1\n",
    "print()\n",
    "\n",
    "k=0\n",
    "print(\"Odd numbers of list3\")\n",
    "while k < len(List_3):\n",
    "    if List_3[k] %2 != 0:\n",
    "        print(List_3[k],end=' ')\n",
    "    k+=1"
   ]
  },
  {
   "cell_type": "code",
   "execution_count": 25,
   "id": "98c09028",
   "metadata": {},
   "outputs": [
    {
     "name": "stdout",
     "output_type": "stream",
     "text": [
      "[1, 3, 5, 7, 9]\n"
     ]
    }
   ],
   "source": [
    "#printing odd numbers using list comprehension\n",
    "List_2 = [x for x in List_1 if x%2 != 0]\n",
    "print(List_2)"
   ]
  },
  {
   "cell_type": "code",
   "execution_count": 26,
   "id": "c730e253",
   "metadata": {},
   "outputs": [
    {
     "name": "stdout",
     "output_type": "stream",
     "text": [
      "[1, 9, 25]\n"
     ]
    }
   ],
   "source": [
    "#generate a list which contains all numbers from 0 to n which are odd and have been squared using list comprehensions.\n",
    "List_3 = [x for x in[x**2 for x in range(7)]if x%2 != 0]\n",
    "print(List_3)"
   ]
  },
  {
   "cell_type": "code",
   "execution_count": 33,
   "id": "142d5622",
   "metadata": {},
   "outputs": [],
   "source": [
    "#creating a function\n",
    "def get_odd(n):\n",
    " return[x for x in[x**2 for x in range(n)]if x%2 != 0]"
   ]
  },
  {
   "cell_type": "code",
   "execution_count": 36,
   "id": "bcb2cf7f",
   "metadata": {},
   "outputs": [
    {
     "name": "stdout",
     "output_type": "stream",
     "text": [
      "['I', 'like', 'cookies']\n",
      "['I', 'like', 'apples']\n"
     ]
    }
   ],
   "source": [
    "#replacing the word cookies with the word apples\n",
    "lista = ['I','like','cookies']\n",
    "listb = lista\n",
    "listb = [s.replace('cookies','apples') for s in listb]\n",
    "print(lista)\n",
    "print(listb)"
   ]
  },
  {
   "cell_type": "code",
   "execution_count": 39,
   "id": "c6f12402",
   "metadata": {},
   "outputs": [
    {
     "name": "stdout",
     "output_type": "stream",
     "text": [
      "{0: 0, 1: 1, 2: 4, 3: 9, 4: 16, 5: 25, 6: 36}\n"
     ]
    },
    {
     "data": {
      "text/plain": [
       "[0, 1, 4, 9, 16, 25, 36]"
      ]
     },
     "execution_count": 39,
     "metadata": {},
     "output_type": "execute_result"
    }
   ],
   "source": [
    "#creating a dictionary\n",
    "d1 = {x:x**2 for x in range(7)}\n",
    "print(d1)\n",
    "\n",
    "vals = list(d1.values())\n",
    "vals"
   ]
  },
  {
   "cell_type": "code",
   "execution_count": 40,
   "id": "3eb19c40",
   "metadata": {},
   "outputs": [
    {
     "name": "stdout",
     "output_type": "stream",
     "text": [
      "[5, 4, 3, 2, 1, 0]\n"
     ]
    }
   ],
   "source": [
    "#reversing a string\n",
    "a=[0,1,2,3,4,5][::-1]\n",
    "print(a)"
   ]
  },
  {
   "cell_type": "code",
   "execution_count": 46,
   "id": "0172486c",
   "metadata": {},
   "outputs": [
    {
     "name": "stdout",
     "output_type": "stream",
     "text": [
      "[(0, 6, 99), (1, 7, 98), (2, 8, 97), (3, 9, 96), (4, 10, 95), (5, 11, 94)]\n",
      "[(20, 33, 27, 66, 90), (8, 8, 14, 23, 100)]\n"
     ]
    }
   ],
   "source": [
    "#zipping of lists\n",
    "xcoors = [0,1,2,3,4,5]\n",
    "ycoors = [6,7,8,9,10,11]\n",
    "zcoors = [99,98,97,96,95,94]\n",
    "xycoors = [(0,6),(1,7),(2,8),(3,9),(4,10),(5,11)]\n",
    "zip_list = list(zip(xcoors,ycoors,zcoors))\n",
    "chocage = [(20,8),(33,8),(27,14),(66,23),(90,100)]\n",
    "unzip_list = list(zip(*chocage))\n",
    "\n",
    "print(zip_list)\n",
    "print(unzip_list)"
   ]
  },
  {
   "cell_type": "code",
   "execution_count": 2,
   "id": "b77b8c72",
   "metadata": {},
   "outputs": [
    {
     "name": "stdout",
     "output_type": "stream",
     "text": [
      "[1. 2. 3. 4.]\n"
     ]
    }
   ],
   "source": [
    "#creating a numpy array of floats containing the numbers from 0-4\n",
    "import numpy as np\n",
    "arr0 = np.array([1,2,3,4],float)\n",
    "print(arr0)"
   ]
  },
  {
   "cell_type": "code",
   "execution_count": 51,
   "id": "d3425b41",
   "metadata": {},
   "outputs": [
    {
     "name": "stdout",
     "output_type": "stream",
     "text": [
      "[[1. 2. 3.]\n",
      " [4. 5. 6.]]\n"
     ]
    }
   ],
   "source": [
    "#creating a matrix\n",
    "arr1 = np.array([[1,2,3],[4,5,6]],float)\n",
    "print(arr1)"
   ]
  },
  {
   "cell_type": "code",
   "execution_count": 52,
   "id": "cd72b307",
   "metadata": {},
   "outputs": [
    {
     "data": {
      "text/plain": [
       "(2, 3)"
      ]
     },
     "execution_count": 52,
     "metadata": {},
     "output_type": "execute_result"
    }
   ],
   "source": [
    "#getting the shape of the matrix M\n",
    "arr1.shape"
   ]
  },
  {
   "cell_type": "code",
   "execution_count": 53,
   "id": "9bc9a420",
   "metadata": {},
   "outputs": [
    {
     "name": "stdout",
     "output_type": "stream",
     "text": [
      "True\n"
     ]
    }
   ],
   "source": [
    "#check if the value 2 is in the matrix M\n",
    "print(2 in arr1)"
   ]
  },
  {
   "cell_type": "code",
   "execution_count": 6,
   "id": "bb41bed6",
   "metadata": {},
   "outputs": [
    {
     "name": "stdout",
     "output_type": "stream",
     "text": [
      "[0. 1. 2. 3. 4. 5. 6. 7. 8. 9.]\n",
      "[[0. 1.]\n",
      " [2. 3.]\n",
      " [4. 5.]\n",
      " [6. 7.]\n",
      " [8. 9.]]\n"
     ]
    }
   ],
   "source": [
    "#reshape of a matrix\n",
    "arr2 = np.array(range(10),float)\n",
    "print(arr2)\n",
    "arr3 = arr2.reshape((5,2))\n",
    "print(arr3)"
   ]
  },
  {
   "cell_type": "code",
   "execution_count": 7,
   "id": "ddc78064",
   "metadata": {},
   "outputs": [
    {
     "name": "stdout",
     "output_type": "stream",
     "text": [
      "[[0. 2. 4. 6. 8.]\n",
      " [1. 3. 5. 7. 9.]]\n"
     ]
    }
   ],
   "source": [
    "#transpose of a matrix\n",
    "arr4 = arr3.transpose()\n",
    "print(arr4)"
   ]
  },
  {
   "cell_type": "code",
   "execution_count": 8,
   "id": "6dc0c46c",
   "metadata": {},
   "outputs": [
    {
     "name": "stdout",
     "output_type": "stream",
     "text": [
      "[0. 2. 4. 6. 8. 1. 3. 5. 7. 9.]\n"
     ]
    }
   ],
   "source": [
    "#flatten a matrix\n",
    "arr5 = arr4.flatten()\n",
    "print(arr5)"
   ]
  },
  {
   "cell_type": "code",
   "execution_count": 9,
   "id": "33b9c090",
   "metadata": {},
   "outputs": [
    {
     "name": "stdout",
     "output_type": "stream",
     "text": [
      "[0. 1. 2. 3.]\n",
      "(4,)\n",
      "(4, 1)\n",
      "[[0.]\n",
      " [1.]\n",
      " [2.]\n",
      " [3.]]\n"
     ]
    }
   ],
   "source": [
    "#increasing the dimensionality of a matrix\n",
    "arr6 = np.array([0,1,2,3],float)\n",
    "print(arr6)\n",
    "arr7 = arr6[:,np.newaxis]\n",
    "print(arr6.shape)\n",
    "print(arr7.shape)\n",
    "print(arr7)"
   ]
  },
  {
   "cell_type": "code",
   "execution_count": 10,
   "id": "28a3a750",
   "metadata": {},
   "outputs": [
    {
     "name": "stdout",
     "output_type": "stream",
     "text": [
      "[[1. 0. 0.]\n",
      " [0. 1. 0.]\n",
      " [0. 0. 1.]]\n"
     ]
    }
   ],
   "source": [
    "#defining identity matrix\n",
    "print(np.identity(3,float))"
   ]
  },
  {
   "cell_type": "code",
   "execution_count": 11,
   "id": "ceeeda1b",
   "metadata": {},
   "outputs": [
    {
     "name": "stdout",
     "output_type": "stream",
     "text": [
      "32.0\n"
     ]
    }
   ],
   "source": [
    "#computing the dot product of two matrices\n",
    "a = np.array([1,2,3],float)\n",
    "b = np.array([4,5,6],float)\n",
    "print(np.dot(a,b))"
   ]
  },
  {
   "cell_type": "code",
   "execution_count": 14,
   "id": "732a8b2d",
   "metadata": {},
   "outputs": [
    {
     "name": "stdout",
     "output_type": "stream",
     "text": [
      "mean: 3.5\n",
      "median: 3.0\n"
     ]
    }
   ],
   "source": [
    "#computing the mean and the median\n",
    "arr1 = np.array([1,4,3,8,2,3],float)\n",
    "print(\"mean:\",np.mean(arr1))\n",
    "print(\"median:\",np.median(arr1))"
   ]
  },
  {
   "cell_type": "code",
   "execution_count": 15,
   "id": "13d3a885",
   "metadata": {},
   "outputs": [
    {
     "name": "stdout",
     "output_type": "stream",
     "text": [
      "cov: [[0.  0. ]\n",
      " [0.  0.5]]\n"
     ]
    }
   ],
   "source": [
    "#computing the covariance\n",
    "arr12 = np.array([[1,1],[3,4]],float)\n",
    "print('cov:',np.cov(arr12))"
   ]
  },
  {
   "cell_type": "code",
   "execution_count": 17,
   "id": "976784c5",
   "metadata": {},
   "outputs": [],
   "source": [
    "import matplotlib.pyplot as plt\n",
    "%matplotlib inline\n",
    "dpts = np.array([[3,3],[4,5],[4.5,6],[9,7]])"
   ]
  },
  {
   "cell_type": "code",
   "execution_count": 19,
   "id": "0130472b",
   "metadata": {},
   "outputs": [
    {
     "data": {
      "image/png": "[encoded data removed]",
      "text/plain": [
       "<Figure size 432x288 with 1 Axes>"
      ]
     },
     "metadata": {
      "needs_background": "light"
     },
     "output_type": "display_data"
    }
   ],
   "source": [
    "#creating a graph\n",
    "#plt.figure()\n",
    "plt.plot(dpts[:,0],dpts[:,1])\n",
    "plt.ylabel('y-axis')\n",
    "plt.xlabel('x-axis')\n",
    "plt.show()"
   ]
  },
  {
   "cell_type": "code",
   "execution_count": 21,
   "id": "d6aa5c0d",
   "metadata": {},
   "outputs": [
    {
     "data": {
      "text/plain": [
       "Text(0.5, 1.0, 'Fancy studies')"
      ]
     },
     "execution_count": 21,
     "metadata": {},
     "output_type": "execute_result"
    },
    {
     "data": {
      "image/png": "[encoded data removed]",
      "text/plain": [
       "<Figure size 432x288 with 1 Axes>"
      ]
     },
     "metadata": {
      "needs_background": "light"
     },
     "output_type": "display_data"
    }
   ],
   "source": [
    "c1 = np.array([(1,2),(3,1),(0,1),(2,2)])\n",
    "c2 = np.array([(12,9),(8,10),(11,11),(14,13)])\n",
    "plt.figure()\n",
    "plt.scatter(c1[:,0],c1[:,1],color = 'r')\n",
    "plt.scatter(c2[:,0],c2[:,1],color = 'b')\n",
    "plt.xlabel('time spent at parking lot [h]')\n",
    "plt.ylabel('money spent in euro')\n",
    "plt.title('Fancy studies')"
   ]
  },
  {
   "cell_type": "code",
   "execution_count": 23,
   "id": "e9f74fab",
   "metadata": {},
   "outputs": [
    {
     "data": {
      "text/plain": [
       "<matplotlib.colorbar.Colorbar at 0x2501f297580>"
      ]
     },
     "execution_count": 23,
     "metadata": {},
     "output_type": "execute_result"
    },
    {
     "data": {
      "image/png": "[encoded data removed]",
      "text/plain": [
       "<Figure size 432x288 with 2 Axes>"
      ]
     },
     "metadata": {
      "needs_background": "light"
     },
     "output_type": "display_data"
    }
   ],
   "source": [
    "from scipy.spatial import distance\n",
    "distmx = []\n",
    "for e in c1:\n",
    "    newrow = []\n",
    "    for f in c2:\n",
    "        d = distance.euclidean(e,f)\n",
    "        newrow.append(d)\n",
    "    distmx.append(newrow)\n",
    "    \n",
    "plt.figure()\n",
    "plt.imshow(distmx,cmap='coolwarm',interpolation=\"nearest\")\n",
    "plt.colorbar()"
   ]
  },
  {
   "cell_type": "code",
   "execution_count": null,
   "id": "a8cad352",
   "metadata": {},
   "outputs": [],
   "source": []
  }
 ],
 "metadata": {
  "kernelspec": {
   "display_name": "Python 3 (ipykernel)",
   "language": "python",
   "name": "python3"
  },
  "language_info": {
   "codemirror_mode": {
    "name": "ipython",
    "version": 3
   },
   "file_extension": ".py",
   "mimetype": "text/x-python",
   "name": "python",
   "nbconvert_exporter": "python",
   "pygments_lexer": "ipython3",
   "version": "3.9.12"
  }
 },
 "nbformat": 4,
 "nbformat_minor": 5
}
