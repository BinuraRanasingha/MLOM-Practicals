{
 "cells": [
  {
   "cell_type": "code",
   "execution_count": null,
   "id": "aebd7613",
   "metadata": {},
   "outputs": [],
   "source": [
    "#Creating variables and assigning numbers, strings, floating values to them\n",
    "name = \"Oshada\"\n",
    "no_studs = 150\n",
    "temp = 13.0\n",
    "print(name)\n",
    "print(no_studs)\n",
    "print(temp)"
   ]
  },
  {
   "cell_type": "code",
   "execution_count": 17,
   "id": "ba6a5a66",
   "metadata": {},
   "outputs": [
    {
     "name": "stdout",
     "output_type": "stream",
     "text": [
      "[1, 2, 3, 4, 5, 6, 7, 8, 9, 10]\n",
      "[0, 1, 2, 3, 4, 5, 6, 7, 8, 9, 10, 11, 12, 13, 14, 15, 16, 17, 18, 19]\n",
      "[0, 1, 2, 3, 4, 5, 6, 7, 8, 9]\n"
     ]
    }
   ],
   "source": [
    "#Creating a list\n",
    "List_1 = [1,2,3,4,5,6,7,8,9,10]\n",
    "List_2 = list(range(0,20))\n",
    "List_3 = [x for x in range(10)]\n",
    "\n",
    "print(List_1)\n",
    "print(List_2)\n",
    "print(List_3)"
   ]
  },
  {
   "cell_type": "code",
   "execution_count": 24,
   "id": "43ca430a",
   "metadata": {},
   "outputs": [
    {
     "name": "stdout",
     "output_type": "stream",
     "text": [
      "Odd numbers of list1\n",
      "1 3 5 7 9 \n",
      "Odd numbers of list2\n",
      "1 3 5 7 9 11 13 15 17 19 \n",
      "Odd numbers of list3\n",
      "1 3 5 7 9 "
     ]
    }
   ],
   "source": [
    "#printing odd numbers using a for loop\n",
    "print(\"Odd numbers of list1\")\n",
    "for e in List_1:\n",
    "    if e%2 != 0:\n",
    "        print(e,end=' ')\n",
    "print()\n",
    "\n",
    "print(\"Odd numbers of list2\")        \n",
    "for e in List_2:\n",
    "    if e%2 != 0:\n",
    "        print(e,end=' ')\n",
    "print()\n",
    "\n",
    "print(\"Odd numbers of list3\")\n",
    "for e in List_3:\n",
    "    if e%2 != 0:\n",
    "        print(e,end=' ')"
   ]
  },
  {
   "cell_type": "code",
   "execution_count": 23,
   "id": "6195785b",
   "metadata": {},
   "outputs": [
    {
     "name": "stdout",
     "output_type": "stream",
     "text": [
      "Odd numbers of list1\n",
      "1 3 5 7 9 \n",
      "Odd numbers of list2\n",
      "1 3 5 7 9 11 13 15 17 19 \n",
      "Odd numbers of list3\n",
      "1 3 5 7 9 "
     ]
    }
   ],
   "source": [
    "#printing odd numbers using a while loop\n",
    "i = 0\n",
    "print(\"Odd numbers of list1\")\n",
    "while i < len(List_1):\n",
    "    if List_1[i] %2 != 0:\n",
    "        print(List_1[i],end=' ')\n",
    "    i+=1\n",
    "print()\n",
    "\n",
    "j=0\n",
    "print(\"Odd numbers of list2\")\n",
    "while j < len(List_2):\n",
    "    if List_2[j] %2 != 0:\n",
    "        print(List_2[j],end=' ')\n",
    "    j+=1\n",
    "print()\n",
    "\n",
    "k=0\n",
    "print(\"Odd numbers of list3\")\n",
    "while k < len(List_3):\n",
    "    if List_3[k] %2 != 0:\n",
    "        print(List_3[k],end=' ')\n",
    "    k+=1"
   ]
  },
  {
   "cell_type": "code",
   "execution_count": 25,
   "id": "98c09028",
   "metadata": {},
   "outputs": [
    {
     "name": "stdout",
     "output_type": "stream",
     "text": [
      "[1, 3, 5, 7, 9]\n"
     ]
    }
   ],
   "source": [
    "#printing odd numbers using list comprehension\n",
    "List_2 = [x for x in List_1 if x%2 != 0]\n",
    "print(List_2)"
   ]
  },
  {
   "cell_type": "code",
   "execution_count": 26,
   "id": "c730e253",
   "metadata": {},
   "outputs": [
    {
     "name": "stdout",
     "output_type": "stream",
     "text": [
      "[1, 9, 25]\n"
     ]
    }
   ],
   "source": [
    "#generate a list which contains all numbers from 0 to n which are odd and have been squared using list comprehensions.\n",
    "List_3 = [x for x in[x**2 for x in range(7)]if x%2 != 0]\n",
    "print(List_3)"
   ]
  },
  {
   "cell_type": "code",
   "execution_count": 33,
   "id": "142d5622",
   "metadata": {},
   "outputs": [],
   "source": [
    "#creating a function\n",
    "def get_odd(n):\n",
    " return[x for x in[x**2 for x in range(n)]if x%2 != 0]"
   ]
  },
  {
   "cell_type": "code",
   "execution_count": 36,
   "id": "bcb2cf7f",
   "metadata": {},
   "outputs": [
    {
     "name": "stdout",
     "output_type": "stream",
     "text": [
      "['I', 'like', 'cookies']\n",
      "['I', 'like', 'apples']\n"
     ]
    }
   ],
   "source": [
    "#replacing the word cookies with the word apples\n",
    "lista = ['I','like','cookies']\n",
    "listb = lista\n",
    "listb = [s.replace('cookies','apples') for s in listb]\n",
    "print(lista)\n",
    "print(listb)"
   ]
  },
  {
   "cell_type": "code",
   "execution_count": 39,
   "id": "c6f12402",
   "metadata": {},
   "outputs": [
    {
     "name": "stdout",
     "output_type": "stream",
     "text": [
      "{0: 0, 1: 1, 2: 4, 3: 9, 4: 16, 5: 25, 6: 36}\n"
     ]
    },
    {
     "data": {
      "text/plain": [
       "[0, 1, 4, 9, 16, 25, 36]"
      ]
     },
     "execution_count": 39,
     "metadata": {},
     "output_type": "execute_result"
    }
   ],
   "source": [
    "#creating a dictionary\n",
    "d1 = {x:x**2 for x in range(7)}\n",
    "print(d1)\n",
    "\n",
    "vals = list(d1.values())\n",
    "vals"
   ]
  },
  {
   "cell_type": "code",
   "execution_count": 40,
   "id": "3eb19c40",
   "metadata": {},
   "outputs": [
    {
     "name": "stdout",
     "output_type": "stream",
     "text": [
      "[5, 4, 3, 2, 1, 0]\n"
     ]
    }
   ],
   "source": [
    "#reversing a string\n",
    "a=[0,1,2,3,4,5][::-1]\n",
    "print(a)"
   ]
  },
  {
   "cell_type": "code",
   "execution_count": 46,
   "id": "0172486c",
   "metadata": {},
   "outputs": [
    {
     "name": "stdout",
     "output_type": "stream",
     "text": [
      "[(0, 6, 99), (1, 7, 98), (2, 8, 97), (3, 9, 96), (4, 10, 95), (5, 11, 94)]\n",
      "[(20, 33, 27, 66, 90), (8, 8, 14, 23, 100)]\n"
     ]
    }
   ],
   "source": [
    "#zipping of lists\n",
    "xcoors = [0,1,2,3,4,5]\n",
    "ycoors = [6,7,8,9,10,11]\n",
    "zcoors = [99,98,97,96,95,94]\n",
    "xycoors = [(0,6),(1,7),(2,8),(3,9),(4,10),(5,11)]\n",
    "zip_list = list(zip(xcoors,ycoors,zcoors))\n",
    "chocage = [(20,8),(33,8),(27,14),(66,23),(90,100)]\n",
    "unzip_list = list(zip(*chocage))\n",
    "\n",
    "print(zip_list)\n",
    "print(unzip_list)"
   ]
  },
  {
   "cell_type": "code",
   "execution_count": 50,
   "id": "b77b8c72",
   "metadata": {},
   "outputs": [
    {
     "name": "stdout",
     "output_type": "stream",
     "text": [
      "[1 2 3 4]\n"
     ]
    }
   ],
   "source": [
    "#creating a numpy array of floats containing the numbers from 0-4\n",
    "import numpy as np\n",
    "arr0 = np.array([1,2,3,4],float)\n",
    "print(arr0)"
   ]
  },
  {
   "cell_type": "code",
   "execution_count": 51,
   "id": "d3425b41",
   "metadata": {},
   "outputs": [
    {
     "name": "stdout",
     "output_type": "stream",
     "text": [
      "[[1. 2. 3.]\n",
      " [4. 5. 6.]]\n"
     ]
    }
   ],
   "source": [
    "#creating a matrix\n",
    "arr1 = np.array([[1,2,3],[4,5,6]],float)\n",
    "print(arr1)"
   ]
  },
  {
   "cell_type": "code",
   "execution_count": 52,
   "id": "cd72b307",
   "metadata": {},
   "outputs": [
    {
     "data": {
      "text/plain": [
       "(2, 3)"
      ]
     },
     "execution_count": 52,
     "metadata": {},
     "output_type": "execute_result"
    }
   ],
   "source": [
    "#getting the shape of the matrix M\n",
    "arr1.shape"
   ]
  },
  {
   "cell_type": "code",
   "execution_count": 53,
   "id": "9bc9a420",
   "metadata": {},
   "outputs": [
    {
     "name": "stdout",
     "output_type": "stream",
     "text": [
      "True\n"
     ]
    }
   ],
   "source": [
    "#check if the value 2 is in the matrix M\n",
    "print(2 in arr1)"
   ]
  },
  {
   "cell_type": "code",
   "execution_count": null,
   "id": "bb41bed6",
   "metadata": {},
   "outputs": [],
   "source": []
  }
 ],
 "metadata": {
  "kernelspec": {
   "display_name": "Python 3 (ipykernel)",
   "language": "python",
   "name": "python3"
  },
  "language_info": {
   "codemirror_mode": {
    "name": "ipython",
    "version": 3
   },
   "file_extension": ".py",
   "mimetype": "text/x-python",
   "name": "python",
   "nbconvert_exporter": "python",
   "pygments_lexer": "ipython3",
   "version": "3.9.12"
  }
 },
 "nbformat": 4,
 "nbformat_minor": 5
}
